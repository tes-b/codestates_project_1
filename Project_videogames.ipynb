{
 "cells": [
  {
   "cell_type": "markdown",
   "metadata": {},
   "source": [
    "# Project 1. Game sales data analysis"
   ]
  },
  {
   "cell_type": "code",
   "execution_count": 79,
   "metadata": {},
   "outputs": [],
   "source": [
    "import pandas as pd\n",
    "import numpy as np\n",
    "import matplotlib.pyplot as plt\n",
    "import seaborn as sns\n",
    "import pandas as pd\n",
    "from bs4 import BeautifulSoup as bs\n",
    "import requests\n",
    "import re\n",
    "import wikipediaapi\n",
    "import math"
   ]
  },
  {
   "cell_type": "code",
   "execution_count": 80,
   "metadata": {},
   "outputs": [],
   "source": [
    "pd.set_option('display.max_rows', None);"
   ]
  },
  {
   "cell_type": "markdown",
   "metadata": {},
   "source": [
    "option.\n",
    "1. kaggle 에서 새로운 데이터파일을 가져와 하나로 합친다??\n",
    "2. 데이터가 항상 풍성할 수는 없다. 제한적인 상황에서 최대한의 아웃풋을 뽑아내본다."
   ]
  },
  {
   "cell_type": "code",
   "execution_count": 81,
   "metadata": {},
   "outputs": [],
   "source": [
    "# load data\n",
    "# df_vgame = pd.read_csv('vgames2.csv');\n",
    "# df_vgame.head()"
   ]
  },
  {
   "cell_type": "code",
   "execution_count": 82,
   "metadata": {},
   "outputs": [],
   "source": [
    "# Check missing values\n",
    "# df_vgame.info()"
   ]
  },
  {
   "cell_type": "markdown",
   "metadata": {},
   "source": [
    "Unnamed 를 index로 수정  \n",
    "Year 항목에 결측치 다수, 타입 int로 수정  \n",
    "Genre 항목 결측치 다수  \n",
    "Publisher 항목 결측치 다수  \n",
    "Sales 항목들 numeric 으로 수정  \n"
   ]
  },
  {
   "cell_type": "code",
   "execution_count": 83,
   "metadata": {},
   "outputs": [],
   "source": [
    "# vgame_copy = df_vgame.copy();"
   ]
  },
  {
   "cell_type": "code",
   "execution_count": 84,
   "metadata": {},
   "outputs": [],
   "source": [
    "# Drop Unnamed\n",
    "# vgame_copy = vgame_copy.drop(\"Unnamed: 0\",axis=1);"
   ]
  },
  {
   "cell_type": "code",
   "execution_count": 85,
   "metadata": {},
   "outputs": [],
   "source": [
    "# vgame_copy.info()"
   ]
  },
  {
   "cell_type": "code",
   "execution_count": 86,
   "metadata": {},
   "outputs": [],
   "source": [
    "# year_null = vgame_copy[vgame_copy.Year.isnull()];\n",
    "# year_null.shape "
   ]
  },
  {
   "cell_type": "code",
   "execution_count": 87,
   "metadata": {},
   "outputs": [],
   "source": [
    "# wikipedia 크롤링 해 결측치 채우기\n",
    "\n",
    "# import wiki_crawler\n",
    "# import importlib\n",
    "# importlib.reload(wiki_crawler)"
   ]
  },
  {
   "cell_type": "code",
   "execution_count": 88,
   "metadata": {},
   "outputs": [],
   "source": [
    "# 모듈 초기화\n",
    "# wc = wiki_crawler.WikiCrawler();\n",
    "# 크롤링\n",
    "# df_result = wc.fill_all(year_null);\n",
    "# df_result.head()\n"
   ]
  },
  {
   "cell_type": "code",
   "execution_count": 89,
   "metadata": {},
   "outputs": [],
   "source": [
    "# 크롤링 한 데이터 합치기\n",
    "\n",
    "# result_copy = df_result.copy();\n",
    "# result_copy\n",
    "# vgame_copy['Year'] = vgame_copy['Year'].astype('str');\n",
    "# for index in result_copy.index:\n",
    "#     vgame_copy.loc[index,['Year','Genre','Publisher']] = result_copy.loc[index,['Year','Genre','Publisher']];\n",
    "\n",
    "# vgame_copy.iloc[31]"
   ]
  },
  {
   "cell_type": "code",
   "execution_count": 90,
   "metadata": {},
   "outputs": [],
   "source": [
    "# 새로운 파일 생성\n",
    "# vgame_copy.to_csv('vgames_made_up.csv');"
   ]
  },
  {
   "cell_type": "code",
   "execution_count": 91,
   "metadata": {},
   "outputs": [
    {
     "data": {
      "text/html": [
       "<div>\n",
       "<style scoped>\n",
       "    .dataframe tbody tr th:only-of-type {\n",
       "        vertical-align: middle;\n",
       "    }\n",
       "\n",
       "    .dataframe tbody tr th {\n",
       "        vertical-align: top;\n",
       "    }\n",
       "\n",
       "    .dataframe thead th {\n",
       "        text-align: right;\n",
       "    }\n",
       "</style>\n",
       "<table border=\"1\" class=\"dataframe\">\n",
       "  <thead>\n",
       "    <tr style=\"text-align: right;\">\n",
       "      <th></th>\n",
       "      <th>Unnamed: 0</th>\n",
       "      <th>Name</th>\n",
       "      <th>Platform</th>\n",
       "      <th>Year</th>\n",
       "      <th>Genre</th>\n",
       "      <th>Publisher</th>\n",
       "      <th>NA_Sales</th>\n",
       "      <th>EU_Sales</th>\n",
       "      <th>JP_Sales</th>\n",
       "      <th>Other_Sales</th>\n",
       "    </tr>\n",
       "  </thead>\n",
       "  <tbody>\n",
       "    <tr>\n",
       "      <th>0</th>\n",
       "      <td>0</td>\n",
       "      <td>Candace Kane's Candy Factory</td>\n",
       "      <td>DS</td>\n",
       "      <td>2008.0</td>\n",
       "      <td>Action</td>\n",
       "      <td>Destineer</td>\n",
       "      <td>0.04</td>\n",
       "      <td>0</td>\n",
       "      <td>0</td>\n",
       "      <td>0</td>\n",
       "    </tr>\n",
       "    <tr>\n",
       "      <th>1</th>\n",
       "      <td>1</td>\n",
       "      <td>The Munchables</td>\n",
       "      <td>Wii</td>\n",
       "      <td>2009.0</td>\n",
       "      <td>Action</td>\n",
       "      <td>Namco Bandai Games</td>\n",
       "      <td>0.17</td>\n",
       "      <td>0</td>\n",
       "      <td>0</td>\n",
       "      <td>0.01</td>\n",
       "    </tr>\n",
       "    <tr>\n",
       "      <th>2</th>\n",
       "      <td>2</td>\n",
       "      <td>Otome wa Oanesama Boku ni Koi Shiteru Portable</td>\n",
       "      <td>PSP</td>\n",
       "      <td>2010.0</td>\n",
       "      <td>Adventure</td>\n",
       "      <td>Alchemist</td>\n",
       "      <td>0</td>\n",
       "      <td>0</td>\n",
       "      <td>0.02</td>\n",
       "      <td>0</td>\n",
       "    </tr>\n",
       "    <tr>\n",
       "      <th>3</th>\n",
       "      <td>3</td>\n",
       "      <td>Deal or No Deal: Special Edition</td>\n",
       "      <td>DS</td>\n",
       "      <td>2010.0</td>\n",
       "      <td>Misc</td>\n",
       "      <td>Zoo Games</td>\n",
       "      <td>0.04</td>\n",
       "      <td>0</td>\n",
       "      <td>0</td>\n",
       "      <td>0</td>\n",
       "    </tr>\n",
       "    <tr>\n",
       "      <th>4</th>\n",
       "      <td>4</td>\n",
       "      <td>Ben 10 Ultimate Alien: Cosmic Destruction</td>\n",
       "      <td>PS3</td>\n",
       "      <td>2010.0</td>\n",
       "      <td>Platform</td>\n",
       "      <td>D3Publisher</td>\n",
       "      <td>0.12</td>\n",
       "      <td>0.09</td>\n",
       "      <td>0</td>\n",
       "      <td>0.04</td>\n",
       "    </tr>\n",
       "  </tbody>\n",
       "</table>\n",
       "</div>"
      ],
      "text/plain": [
       "   Unnamed: 0                                            Name Platform  \\\n",
       "0           0                    Candace Kane's Candy Factory       DS   \n",
       "1           1                                  The Munchables      Wii   \n",
       "2           2  Otome wa Oanesama Boku ni Koi Shiteru Portable      PSP   \n",
       "3           3                Deal or No Deal: Special Edition       DS   \n",
       "4           4       Ben 10 Ultimate Alien: Cosmic Destruction      PS3   \n",
       "\n",
       "     Year      Genre           Publisher NA_Sales EU_Sales JP_Sales  \\\n",
       "0  2008.0     Action           Destineer     0.04        0        0   \n",
       "1  2009.0     Action  Namco Bandai Games     0.17        0        0   \n",
       "2  2010.0  Adventure           Alchemist        0        0     0.02   \n",
       "3  2010.0       Misc           Zoo Games     0.04        0        0   \n",
       "4  2010.0   Platform         D3Publisher     0.12     0.09        0   \n",
       "\n",
       "  Other_Sales  \n",
       "0           0  \n",
       "1        0.01  \n",
       "2           0  \n",
       "3           0  \n",
       "4        0.04  "
      ]
     },
     "execution_count": 91,
     "metadata": {},
     "output_type": "execute_result"
    }
   ],
   "source": [
    "# 결측치 채운 데이터 셋 새로 로드\n",
    "df_vgame = pd.read_csv('vgames_0.csv');\n",
    "df_vgame.head()"
   ]
  },
  {
   "cell_type": "code",
   "execution_count": 92,
   "metadata": {},
   "outputs": [
    {
     "data": {
      "text/html": [
       "<div>\n",
       "<style scoped>\n",
       "    .dataframe tbody tr th:only-of-type {\n",
       "        vertical-align: middle;\n",
       "    }\n",
       "\n",
       "    .dataframe tbody tr th {\n",
       "        vertical-align: top;\n",
       "    }\n",
       "\n",
       "    .dataframe thead th {\n",
       "        text-align: right;\n",
       "    }\n",
       "</style>\n",
       "<table border=\"1\" class=\"dataframe\">\n",
       "  <thead>\n",
       "    <tr style=\"text-align: right;\">\n",
       "      <th></th>\n",
       "      <th>Name</th>\n",
       "      <th>Platform</th>\n",
       "      <th>Year</th>\n",
       "      <th>Genre</th>\n",
       "      <th>Publisher</th>\n",
       "      <th>NA_Sales</th>\n",
       "      <th>EU_Sales</th>\n",
       "      <th>JP_Sales</th>\n",
       "      <th>Other_Sales</th>\n",
       "    </tr>\n",
       "  </thead>\n",
       "  <tbody>\n",
       "    <tr>\n",
       "      <th>0</th>\n",
       "      <td>Candace Kane's Candy Factory</td>\n",
       "      <td>DS</td>\n",
       "      <td>2008.0</td>\n",
       "      <td>Action</td>\n",
       "      <td>Destineer</td>\n",
       "      <td>0.04</td>\n",
       "      <td>0</td>\n",
       "      <td>0</td>\n",
       "      <td>0</td>\n",
       "    </tr>\n",
       "    <tr>\n",
       "      <th>1</th>\n",
       "      <td>The Munchables</td>\n",
       "      <td>Wii</td>\n",
       "      <td>2009.0</td>\n",
       "      <td>Action</td>\n",
       "      <td>Namco Bandai Games</td>\n",
       "      <td>0.17</td>\n",
       "      <td>0</td>\n",
       "      <td>0</td>\n",
       "      <td>0.01</td>\n",
       "    </tr>\n",
       "    <tr>\n",
       "      <th>2</th>\n",
       "      <td>Otome wa Oanesama Boku ni Koi Shiteru Portable</td>\n",
       "      <td>PSP</td>\n",
       "      <td>2010.0</td>\n",
       "      <td>Adventure</td>\n",
       "      <td>Alchemist</td>\n",
       "      <td>0</td>\n",
       "      <td>0</td>\n",
       "      <td>0.02</td>\n",
       "      <td>0</td>\n",
       "    </tr>\n",
       "    <tr>\n",
       "      <th>3</th>\n",
       "      <td>Deal or No Deal: Special Edition</td>\n",
       "      <td>DS</td>\n",
       "      <td>2010.0</td>\n",
       "      <td>Misc</td>\n",
       "      <td>Zoo Games</td>\n",
       "      <td>0.04</td>\n",
       "      <td>0</td>\n",
       "      <td>0</td>\n",
       "      <td>0</td>\n",
       "    </tr>\n",
       "    <tr>\n",
       "      <th>4</th>\n",
       "      <td>Ben 10 Ultimate Alien: Cosmic Destruction</td>\n",
       "      <td>PS3</td>\n",
       "      <td>2010.0</td>\n",
       "      <td>Platform</td>\n",
       "      <td>D3Publisher</td>\n",
       "      <td>0.12</td>\n",
       "      <td>0.09</td>\n",
       "      <td>0</td>\n",
       "      <td>0.04</td>\n",
       "    </tr>\n",
       "  </tbody>\n",
       "</table>\n",
       "</div>"
      ],
      "text/plain": [
       "                                             Name Platform    Year      Genre  \\\n",
       "0                    Candace Kane's Candy Factory       DS  2008.0     Action   \n",
       "1                                  The Munchables      Wii  2009.0     Action   \n",
       "2  Otome wa Oanesama Boku ni Koi Shiteru Portable      PSP  2010.0  Adventure   \n",
       "3                Deal or No Deal: Special Edition       DS  2010.0       Misc   \n",
       "4       Ben 10 Ultimate Alien: Cosmic Destruction      PS3  2010.0   Platform   \n",
       "\n",
       "            Publisher NA_Sales EU_Sales JP_Sales Other_Sales  \n",
       "0           Destineer     0.04        0        0           0  \n",
       "1  Namco Bandai Games     0.17        0        0        0.01  \n",
       "2           Alchemist        0        0     0.02           0  \n",
       "3           Zoo Games     0.04        0        0           0  \n",
       "4         D3Publisher     0.12     0.09        0        0.04  "
      ]
     },
     "execution_count": 92,
     "metadata": {},
     "output_type": "execute_result"
    }
   ],
   "source": [
    "# Drop Unnamed\n",
    "vgame_copy = df_vgame.drop(\"Unnamed: 0\",axis=1);\n",
    "vgame_copy.head()"
   ]
  },
  {
   "cell_type": "code",
   "execution_count": 93,
   "metadata": {},
   "outputs": [
    {
     "data": {
      "text/plain": [
       "(16437, 9)"
      ]
     },
     "execution_count": 93,
     "metadata": {},
     "output_type": "execute_result"
    }
   ],
   "source": [
    "# 이외의 결측치는 제거\n",
    "vgame_copy = vgame_copy.dropna();\n",
    "vgame_copy.shape"
   ]
  },
  {
   "cell_type": "code",
   "execution_count": 94,
   "metadata": {},
   "outputs": [
    {
     "data": {
      "text/plain": [
       "2009.0     1418\n",
       "2008.0     1413\n",
       "2010.0     1246\n",
       "2007.0     1192\n",
       "2011.0     1123\n",
       "2006.0      998\n",
       "2005.0      930\n",
       "2002.0      823\n",
       "2003.0      767\n",
       "2004.0      736\n",
       "2012.0      650\n",
       "2015.0      606\n",
       "2014.0      578\n",
       "2013.0      543\n",
       "2001.0      478\n",
       "1998.0      374\n",
       "2000.0      345\n",
       "2016.0      337\n",
       "1999.0      336\n",
       "1997.0      287\n",
       "1996.0      259\n",
       "1995.0      215\n",
       "1994.0      120\n",
       "1993.0       60\n",
       "1981.0       46\n",
       "1992.0       43\n",
       "1991.0       41\n",
       "1982.0       36\n",
       "2011         24\n",
       "2008         22\n",
       "2010         21\n",
       "1986.0       20\n",
       "2002         18\n",
       "1989.0       17\n",
       "1983.0       17\n",
       "2006         16\n",
       "1990.0       16\n",
       "1987.0       16\n",
       "1988.0       15\n",
       "1985.0       14\n",
       "1984.0       14\n",
       "2007         12\n",
       "2003         11\n",
       "2005         11\n",
       "8.0          10\n",
       "11.0         10\n",
       "2004         10\n",
       "9.0          10\n",
       "1980.0        8\n",
       "6.0           7\n",
       "3.0           7\n",
       "2001          7\n",
       "10.0          7\n",
       "1978          5\n",
       "16.0          5\n",
       "2000          5\n",
       "15.0          5\n",
       "5.0           4\n",
       "2012          4\n",
       "4.0           4\n",
       "95.0          4\n",
       "1999          4\n",
       "2009          4\n",
       "unknown       3\n",
       "2017.0        3\n",
       "2.0           3\n",
       "0.0           3\n",
       "98.0          3\n",
       "2013          3\n",
       "7.0           3\n",
       "96.0          3\n",
       "1988          2\n",
       "1977          2\n",
       "14.0          2\n",
       "1997          2\n",
       "1.0           2\n",
       "1989          2\n",
       "1980          2\n",
       "13.0          2\n",
       "97.0          2\n",
       "12.0          2\n",
       "94.0          1\n",
       "1979          1\n",
       "2021          1\n",
       "86.0          1\n",
       "1998          1\n",
       "2020.0        1\n",
       "1996          1\n",
       "1984          1\n",
       "1982          1\n",
       "Name: Year, dtype: int64"
      ]
     },
     "execution_count": 94,
     "metadata": {},
     "output_type": "execute_result"
    }
   ],
   "source": [
    "# 이상치 탐색\n",
    "\n",
    "# df_nulls = vgame_copy[vgame_copy.Year.isnull() | vgame_copy.Genre.isnull() |vgame_copy.Publisher.isnull()];\n",
    "# index = vgame_copy[vgame_copy.Name.duplicated()].index\n",
    "# vgame_copy.loc[index].sort_values('Name')\n",
    "\n",
    "vgame_copy.Year.value_counts()"
   ]
  },
  {
   "cell_type": "code",
   "execution_count": 95,
   "metadata": {},
   "outputs": [],
   "source": [
    "# 년도에 붙은 .0 제거\n",
    "# temp = vgame_copy.Year.str.replace(r\"\\.\\d\",\"\");\n",
    "# temp = pd.DataFrame(temp);\n",
    "index = vgame_copy.query(\"Year.str.contains(r'\\d{4}')\").index;\n",
    "vgame_copy = vgame_copy.loc[index];\n"
   ]
  },
  {
   "cell_type": "code",
   "execution_count": 96,
   "metadata": {},
   "outputs": [
    {
     "data": {
      "text/plain": [
       "2009.0    1418\n",
       "2008.0    1413\n",
       "2010.0    1246\n",
       "2007.0    1192\n",
       "2011.0    1123\n",
       "2006.0     998\n",
       "2005.0     930\n",
       "2002.0     823\n",
       "2003.0     767\n",
       "2004.0     736\n",
       "2012.0     650\n",
       "2015.0     606\n",
       "2014.0     578\n",
       "2013.0     543\n",
       "2001.0     478\n",
       "1998.0     374\n",
       "2000.0     345\n",
       "2016.0     337\n",
       "1999.0     336\n",
       "1997.0     287\n",
       "1996.0     259\n",
       "1995.0     215\n",
       "1994.0     120\n",
       "1993.0      60\n",
       "1981.0      46\n",
       "1992.0      43\n",
       "1991.0      41\n",
       "1982.0      36\n",
       "2011        24\n",
       "2008        22\n",
       "2010        21\n",
       "1986.0      20\n",
       "2002        18\n",
       "1989.0      17\n",
       "1983.0      17\n",
       "2006        16\n",
       "1987.0      16\n",
       "1990.0      16\n",
       "1988.0      15\n",
       "1985.0      14\n",
       "1984.0      14\n",
       "2007        12\n",
       "2005        11\n",
       "2003        11\n",
       "2004        10\n",
       "1980.0       8\n",
       "2001         7\n",
       "2000         5\n",
       "1978         5\n",
       "2009         4\n",
       "1999         4\n",
       "2012         4\n",
       "2013         3\n",
       "2017.0       3\n",
       "1980         2\n",
       "1977         2\n",
       "1988         2\n",
       "1997         2\n",
       "1989         2\n",
       "2020.0       1\n",
       "1984         1\n",
       "1998         1\n",
       "1996         1\n",
       "2021         1\n",
       "1979         1\n",
       "1982         1\n",
       "Name: Year, dtype: int64"
      ]
     },
     "execution_count": 96,
     "metadata": {},
     "output_type": "execute_result"
    }
   ],
   "source": [
    "vgame_copy.Year.value_counts()"
   ]
  },
  {
   "cell_type": "code",
   "execution_count": null,
   "metadata": {},
   "outputs": [],
   "source": []
  }
 ],
 "metadata": {
  "kernelspec": {
   "display_name": "Python 3.10.5 64-bit",
   "language": "python",
   "name": "python3"
  },
  "language_info": {
   "codemirror_mode": {
    "name": "ipython",
    "version": 3
   },
   "file_extension": ".py",
   "mimetype": "text/x-python",
   "name": "python",
   "nbconvert_exporter": "python",
   "pygments_lexer": "ipython3",
   "version": "3.10.5"
  },
  "orig_nbformat": 4,
  "vscode": {
   "interpreter": {
    "hash": "73658ba1d7581ddd2e384cc6d6bffb977215ded4519b7402ae632ab016b41591"
   }
  }
 },
 "nbformat": 4,
 "nbformat_minor": 2
}

{
 "cells": [
  {
   "cell_type": "markdown",
   "metadata": {},
   "source": [
    "# Project 1. Game sales data analysis"
   ]
  },
  {
   "cell_type": "code",
   "execution_count": 1,
   "metadata": {},
   "outputs": [],
   "source": [
    "import pandas as pd\n",
    "import numpy as np\n",
    "import matplotlib.pyplot as plt\n",
    "import seaborn as sns\n",
    "import pandas as pd\n",
    "from bs4 import BeautifulSoup as bs\n",
    "import requests\n",
    "import re\n",
    "import wikipediaapi\n",
    "import math"
   ]
  },
  {
   "cell_type": "code",
   "execution_count": 31,
   "metadata": {},
   "outputs": [],
   "source": [
    "pd.set_option('display.max_rows', 50);"
   ]
  },
  {
   "cell_type": "markdown",
   "metadata": {},
   "source": [
    "option.\n",
    "1. kaggle 에서 새로운 데이터파일을 가져와 하나로 합친다??\n",
    "2. 데이터가 항상 풍성할 수는 없다. 제한적인 상황에서 최대한의 아웃풋을 뽑아내본다."
   ]
  },
  {
   "cell_type": "code",
   "execution_count": 3,
   "metadata": {},
   "outputs": [],
   "source": [
    "# load data\n",
    "# df_vgame = pd.read_csv('vgames2.csv');\n",
    "# df_vgame.head()"
   ]
  },
  {
   "cell_type": "code",
   "execution_count": 4,
   "metadata": {},
   "outputs": [],
   "source": [
    "# Check missing values\n",
    "# df_vgame.info()"
   ]
  },
  {
   "cell_type": "markdown",
   "metadata": {},
   "source": [
    "Unnamed 를 index로 수정  \n",
    "Year 항목에 결측치 다수, 타입 int로 수정  \n",
    "Genre 항목 결측치 다수  \n",
    "Publisher 항목 결측치 다수  \n",
    "Sales 항목들 numeric 으로 수정  \n"
   ]
  },
  {
   "cell_type": "code",
   "execution_count": 5,
   "metadata": {},
   "outputs": [],
   "source": [
    "# vgame_copy = df_vgame.copy();"
   ]
  },
  {
   "cell_type": "code",
   "execution_count": 6,
   "metadata": {},
   "outputs": [],
   "source": [
    "# Drop Unnamed\n",
    "# vgame_copy = vgame_copy.drop(\"Unnamed: 0\",axis=1);"
   ]
  },
  {
   "cell_type": "code",
   "execution_count": 7,
   "metadata": {},
   "outputs": [],
   "source": [
    "# vgame_copy.info()"
   ]
  },
  {
   "cell_type": "code",
   "execution_count": 8,
   "metadata": {},
   "outputs": [],
   "source": [
    "# year_null = vgame_copy[vgame_copy.Year.isnull()];\n",
    "# year_null.shape "
   ]
  },
  {
   "cell_type": "code",
   "execution_count": 9,
   "metadata": {},
   "outputs": [],
   "source": [
    "# wikipedia 크롤링 해 결측치 채우기\n",
    "\n",
    "# import wiki_crawler\n",
    "# import importlib\n",
    "# importlib.reload(wiki_crawler)"
   ]
  },
  {
   "cell_type": "code",
   "execution_count": 10,
   "metadata": {},
   "outputs": [],
   "source": [
    "# 모듈 초기화\n",
    "# wc = wiki_crawler.WikiCrawler();\n",
    "# 크롤링\n",
    "# df_result = wc.fill_all(year_null);\n",
    "# df_result.head()\n"
   ]
  },
  {
   "cell_type": "code",
   "execution_count": 11,
   "metadata": {},
   "outputs": [],
   "source": [
    "# 크롤링 한 데이터 합치기\n",
    "\n",
    "# result_copy = df_result.copy();\n",
    "# result_copy\n",
    "# vgame_copy['Year'] = vgame_copy['Year'].astype('str');\n",
    "# for index in result_copy.index:\n",
    "#     vgame_copy.loc[index,['Year','Genre','Publisher']] = result_copy.loc[index,['Year','Genre','Publisher']];\n",
    "\n",
    "# vgame_copy.iloc[31]"
   ]
  },
  {
   "cell_type": "code",
   "execution_count": 12,
   "metadata": {},
   "outputs": [],
   "source": [
    "# 새로운 파일 생성\n",
    "# vgame_copy.to_csv('vgames_made_up.csv');"
   ]
  },
  {
   "cell_type": "code",
   "execution_count": 13,
   "metadata": {},
   "outputs": [
    {
     "data": {
      "text/html": [
       "<div>\n",
       "<style scoped>\n",
       "    .dataframe tbody tr th:only-of-type {\n",
       "        vertical-align: middle;\n",
       "    }\n",
       "\n",
       "    .dataframe tbody tr th {\n",
       "        vertical-align: top;\n",
       "    }\n",
       "\n",
       "    .dataframe thead th {\n",
       "        text-align: right;\n",
       "    }\n",
       "</style>\n",
       "<table border=\"1\" class=\"dataframe\">\n",
       "  <thead>\n",
       "    <tr style=\"text-align: right;\">\n",
       "      <th></th>\n",
       "      <th>Unnamed: 0</th>\n",
       "      <th>Name</th>\n",
       "      <th>Platform</th>\n",
       "      <th>Year</th>\n",
       "      <th>Genre</th>\n",
       "      <th>Publisher</th>\n",
       "      <th>NA_Sales</th>\n",
       "      <th>EU_Sales</th>\n",
       "      <th>JP_Sales</th>\n",
       "      <th>Other_Sales</th>\n",
       "    </tr>\n",
       "  </thead>\n",
       "  <tbody>\n",
       "    <tr>\n",
       "      <th>0</th>\n",
       "      <td>0</td>\n",
       "      <td>Candace Kane's Candy Factory</td>\n",
       "      <td>DS</td>\n",
       "      <td>2008.0</td>\n",
       "      <td>Action</td>\n",
       "      <td>Destineer</td>\n",
       "      <td>0.04</td>\n",
       "      <td>0</td>\n",
       "      <td>0</td>\n",
       "      <td>0</td>\n",
       "    </tr>\n",
       "    <tr>\n",
       "      <th>1</th>\n",
       "      <td>1</td>\n",
       "      <td>The Munchables</td>\n",
       "      <td>Wii</td>\n",
       "      <td>2009.0</td>\n",
       "      <td>Action</td>\n",
       "      <td>Namco Bandai Games</td>\n",
       "      <td>0.17</td>\n",
       "      <td>0</td>\n",
       "      <td>0</td>\n",
       "      <td>0.01</td>\n",
       "    </tr>\n",
       "    <tr>\n",
       "      <th>2</th>\n",
       "      <td>2</td>\n",
       "      <td>Otome wa Oanesama Boku ni Koi Shiteru Portable</td>\n",
       "      <td>PSP</td>\n",
       "      <td>2010.0</td>\n",
       "      <td>Adventure</td>\n",
       "      <td>Alchemist</td>\n",
       "      <td>0</td>\n",
       "      <td>0</td>\n",
       "      <td>0.02</td>\n",
       "      <td>0</td>\n",
       "    </tr>\n",
       "    <tr>\n",
       "      <th>3</th>\n",
       "      <td>3</td>\n",
       "      <td>Deal or No Deal: Special Edition</td>\n",
       "      <td>DS</td>\n",
       "      <td>2010.0</td>\n",
       "      <td>Misc</td>\n",
       "      <td>Zoo Games</td>\n",
       "      <td>0.04</td>\n",
       "      <td>0</td>\n",
       "      <td>0</td>\n",
       "      <td>0</td>\n",
       "    </tr>\n",
       "    <tr>\n",
       "      <th>4</th>\n",
       "      <td>4</td>\n",
       "      <td>Ben 10 Ultimate Alien: Cosmic Destruction</td>\n",
       "      <td>PS3</td>\n",
       "      <td>2010.0</td>\n",
       "      <td>Platform</td>\n",
       "      <td>D3Publisher</td>\n",
       "      <td>0.12</td>\n",
       "      <td>0.09</td>\n",
       "      <td>0</td>\n",
       "      <td>0.04</td>\n",
       "    </tr>\n",
       "  </tbody>\n",
       "</table>\n",
       "</div>"
      ],
      "text/plain": [
       "   Unnamed: 0                                            Name Platform  \\\n",
       "0           0                    Candace Kane's Candy Factory       DS   \n",
       "1           1                                  The Munchables      Wii   \n",
       "2           2  Otome wa Oanesama Boku ni Koi Shiteru Portable      PSP   \n",
       "3           3                Deal or No Deal: Special Edition       DS   \n",
       "4           4       Ben 10 Ultimate Alien: Cosmic Destruction      PS3   \n",
       "\n",
       "     Year      Genre           Publisher NA_Sales EU_Sales JP_Sales  \\\n",
       "0  2008.0     Action           Destineer     0.04        0        0   \n",
       "1  2009.0     Action  Namco Bandai Games     0.17        0        0   \n",
       "2  2010.0  Adventure           Alchemist        0        0     0.02   \n",
       "3  2010.0       Misc           Zoo Games     0.04        0        0   \n",
       "4  2010.0   Platform         D3Publisher     0.12     0.09        0   \n",
       "\n",
       "  Other_Sales  \n",
       "0           0  \n",
       "1        0.01  \n",
       "2           0  \n",
       "3           0  \n",
       "4        0.04  "
      ]
     },
     "execution_count": 13,
     "metadata": {},
     "output_type": "execute_result"
    }
   ],
   "source": [
    "# 결측치 채운 데이터 셋 새로 로드\n",
    "df_vgame = pd.read_csv('vgames_0.csv');\n",
    "df_vgame.head()"
   ]
  },
  {
   "cell_type": "code",
   "execution_count": 14,
   "metadata": {},
   "outputs": [
    {
     "data": {
      "text/html": [
       "<div>\n",
       "<style scoped>\n",
       "    .dataframe tbody tr th:only-of-type {\n",
       "        vertical-align: middle;\n",
       "    }\n",
       "\n",
       "    .dataframe tbody tr th {\n",
       "        vertical-align: top;\n",
       "    }\n",
       "\n",
       "    .dataframe thead th {\n",
       "        text-align: right;\n",
       "    }\n",
       "</style>\n",
       "<table border=\"1\" class=\"dataframe\">\n",
       "  <thead>\n",
       "    <tr style=\"text-align: right;\">\n",
       "      <th></th>\n",
       "      <th>Name</th>\n",
       "      <th>Platform</th>\n",
       "      <th>Year</th>\n",
       "      <th>Genre</th>\n",
       "      <th>Publisher</th>\n",
       "      <th>NA_Sales</th>\n",
       "      <th>EU_Sales</th>\n",
       "      <th>JP_Sales</th>\n",
       "      <th>Other_Sales</th>\n",
       "    </tr>\n",
       "  </thead>\n",
       "  <tbody>\n",
       "    <tr>\n",
       "      <th>0</th>\n",
       "      <td>Candace Kane's Candy Factory</td>\n",
       "      <td>DS</td>\n",
       "      <td>2008.0</td>\n",
       "      <td>Action</td>\n",
       "      <td>Destineer</td>\n",
       "      <td>0.04</td>\n",
       "      <td>0</td>\n",
       "      <td>0</td>\n",
       "      <td>0</td>\n",
       "    </tr>\n",
       "    <tr>\n",
       "      <th>1</th>\n",
       "      <td>The Munchables</td>\n",
       "      <td>Wii</td>\n",
       "      <td>2009.0</td>\n",
       "      <td>Action</td>\n",
       "      <td>Namco Bandai Games</td>\n",
       "      <td>0.17</td>\n",
       "      <td>0</td>\n",
       "      <td>0</td>\n",
       "      <td>0.01</td>\n",
       "    </tr>\n",
       "    <tr>\n",
       "      <th>2</th>\n",
       "      <td>Otome wa Oanesama Boku ni Koi Shiteru Portable</td>\n",
       "      <td>PSP</td>\n",
       "      <td>2010.0</td>\n",
       "      <td>Adventure</td>\n",
       "      <td>Alchemist</td>\n",
       "      <td>0</td>\n",
       "      <td>0</td>\n",
       "      <td>0.02</td>\n",
       "      <td>0</td>\n",
       "    </tr>\n",
       "    <tr>\n",
       "      <th>3</th>\n",
       "      <td>Deal or No Deal: Special Edition</td>\n",
       "      <td>DS</td>\n",
       "      <td>2010.0</td>\n",
       "      <td>Misc</td>\n",
       "      <td>Zoo Games</td>\n",
       "      <td>0.04</td>\n",
       "      <td>0</td>\n",
       "      <td>0</td>\n",
       "      <td>0</td>\n",
       "    </tr>\n",
       "    <tr>\n",
       "      <th>4</th>\n",
       "      <td>Ben 10 Ultimate Alien: Cosmic Destruction</td>\n",
       "      <td>PS3</td>\n",
       "      <td>2010.0</td>\n",
       "      <td>Platform</td>\n",
       "      <td>D3Publisher</td>\n",
       "      <td>0.12</td>\n",
       "      <td>0.09</td>\n",
       "      <td>0</td>\n",
       "      <td>0.04</td>\n",
       "    </tr>\n",
       "  </tbody>\n",
       "</table>\n",
       "</div>"
      ],
      "text/plain": [
       "                                             Name Platform    Year      Genre  \\\n",
       "0                    Candace Kane's Candy Factory       DS  2008.0     Action   \n",
       "1                                  The Munchables      Wii  2009.0     Action   \n",
       "2  Otome wa Oanesama Boku ni Koi Shiteru Portable      PSP  2010.0  Adventure   \n",
       "3                Deal or No Deal: Special Edition       DS  2010.0       Misc   \n",
       "4       Ben 10 Ultimate Alien: Cosmic Destruction      PS3  2010.0   Platform   \n",
       "\n",
       "            Publisher NA_Sales EU_Sales JP_Sales Other_Sales  \n",
       "0           Destineer     0.04        0        0           0  \n",
       "1  Namco Bandai Games     0.17        0        0        0.01  \n",
       "2           Alchemist        0        0     0.02           0  \n",
       "3           Zoo Games     0.04        0        0           0  \n",
       "4         D3Publisher     0.12     0.09        0        0.04  "
      ]
     },
     "execution_count": 14,
     "metadata": {},
     "output_type": "execute_result"
    }
   ],
   "source": [
    "# Drop Unnamed\n",
    "vgame_copy = df_vgame.drop(\"Unnamed: 0\",axis=1);\n",
    "vgame_copy.head()"
   ]
  },
  {
   "cell_type": "code",
   "execution_count": 15,
   "metadata": {},
   "outputs": [
    {
     "data": {
      "text/plain": [
       "(16437, 9)"
      ]
     },
     "execution_count": 15,
     "metadata": {},
     "output_type": "execute_result"
    }
   ],
   "source": [
    "# 이외의 결측치는 제거\n",
    "vgame_copy = vgame_copy.dropna();\n",
    "vgame_copy.shape"
   ]
  },
  {
   "cell_type": "code",
   "execution_count": null,
   "metadata": {},
   "outputs": [],
   "source": [
    "# 이상치 탐색\n",
    "\n",
    "# df_nulls = vgame_copy[vgame_copy.Year.isnull() | vgame_copy.Genre.isnull() |vgame_copy.Publisher.isnull()];\n",
    "# index = vgame_copy[vgame_copy.Name.duplicated()].index\n",
    "# vgame_copy.loc[index].sort_values('Name')\n",
    "\n",
    "vgame_copy.Year.value_counts()"
   ]
  },
  {
   "cell_type": "code",
   "execution_count": null,
   "metadata": {},
   "outputs": [],
   "source": [
    "# Remove .0\n",
    "# astype int\n",
    "vgame_0 = vgame_copy.query(\"Year.str.contains(r'\\d{4}')\");\n",
    "vgame_0.Year = vgame_0.Year.str.replace(r\"\\.\\d\",\"\").astype(int);\n",
    "vgame_0.info()\n",
    "\n"
   ]
  },
  {
   "cell_type": "code",
   "execution_count": null,
   "metadata": {},
   "outputs": [],
   "source": [
    "# Remove \" game\"\n",
    "vgame_0.Genre = vgame_0.Genre.str.replace(r\" game\",\"\");"
   ]
  },
  {
   "cell_type": "code",
   "execution_count": null,
   "metadata": {},
   "outputs": [],
   "source": [
    "# merge all role playings\n",
    "vgame_0.Genre = vgame_0.Genre.str.replace(r\"^.*((?i)role).*\",\"Role-Playing\");\n",
    "vgame_0.Genre = vgame_0.Genre.str.replace(r\"^.*((?i)rpg).*\",\"Role-Playing\");"
   ]
  },
  {
   "cell_type": "code",
   "execution_count": null,
   "metadata": {},
   "outputs": [],
   "source": [
    "# merge all simulations\n",
    "vgame_0.Genre = vgame_0.Genre.str.replace(r\"^.*((?i)simul).*\",\"Simulation\");"
   ]
  },
  {
   "cell_type": "code",
   "execution_count": null,
   "metadata": {},
   "outputs": [],
   "source": [
    "# merge all shooters\n",
    "vgame_0.Genre = vgame_0.Genre.str.replace(r\"^.*((?i)shoot).*\",\"Shooter\");"
   ]
  },
  {
   "cell_type": "code",
   "execution_count": null,
   "metadata": {},
   "outputs": [],
   "source": [
    "# merge all strategies\n",
    "vgame_0.Genre = vgame_0.Genre.str.replace(r\"^.*((?i)strat).*\",\"Strategy\");\n",
    "vgame_0.Genre = vgame_0.Genre.str.replace(r\"^.*((?i)tact).*\",\"Strategy\");"
   ]
  },
  {
   "cell_type": "code",
   "execution_count": null,
   "metadata": {},
   "outputs": [],
   "source": [
    "# merge all adventures\n",
    "vgame_0.Genre = vgame_0.Genre.str.replace(r\"^.*((?i)adven).*\",\"Adventure\");"
   ]
  },
  {
   "cell_type": "code",
   "execution_count": null,
   "metadata": {},
   "outputs": [],
   "source": [
    "# merge all platforms\n",
    "vgame_0.Genre = vgame_0.Genre.str.replace(r\"^.*((?i)platform).*\",\"Platform\");"
   ]
  },
  {
   "cell_type": "code",
   "execution_count": null,
   "metadata": {},
   "outputs": [],
   "source": [
    "# merge all racings\n",
    "vgame_0.Genre = vgame_0.Genre.str.replace(r\"^.*((?i)rac).*\",\"Racing\");"
   ]
  },
  {
   "cell_type": "code",
   "execution_count": null,
   "metadata": {},
   "outputs": [],
   "source": [
    "# merge all actions\n",
    "vgame_0.Genre = vgame_0.Genre.str.replace(r\"^.*((?i)action).*\",\"Action\");"
   ]
  },
  {
   "cell_type": "code",
   "execution_count": null,
   "metadata": {},
   "outputs": [],
   "source": [
    "# merge others\n",
    "vgame_0.Genre = vgame_0.Genre.str.replace(r\"^.*((?i)rhythm).*\",\"Rhythm\");\n",
    "vgame_0.Genre = vgame_0.Genre.str.replace(r\"^.*((?i)horror).*\",\"Adventure\");\n",
    "vgame_0.Genre = vgame_0.Genre.str.replace(r\"^.*((?i)party).*\",\"Misc\");\n",
    "vgame_0.Genre = vgame_0.Genre.str.replace(r\"^.*((?i)unknown).*\",\"Misc\");\n",
    "vgame_0.Genre = vgame_0.Genre.str.replace(r\"^.*((?i)beat).*\",\"Misc\");\n",
    "vgame_0.Genre = vgame_0.Genre.str.replace(r\"^.*((?i)music).*\",\"Rhythm\");\n",
    "vgame_0.Genre = vgame_0.Genre.str.replace(r\"^.*((?i)stealth).*\",\"Action\");\n",
    "vgame_0.Genre = vgame_0.Genre.str.replace(r\"^.*((?i)vehicul).*\",\"Action\");\n",
    "vgame_0.Genre = vgame_0.Genre.str.replace(r\"^.*((?i)board).*\",\"Strategy\");\n",
    "vgame_0.Genre = vgame_0.Genre.str.replace(r\"^.*((?i)manage).*\",\"Simulation\");\n",
    "vgame_0.Genre = vgame_0.Genre.str.replace(r\"^.*((?i)various).*\",\"Misc\");\n",
    "vgame_0.Genre = vgame_0.Genre.str.replace(r\"^.*((?i)tile).*\",\"Puzzle\");\n",
    "vgame_0.Genre = vgame_0.Genre.str.replace(r\"^.*((?i)snow).*\",\"Sports\");\n",
    "vgame_0.Genre = vgame_0.Genre.str.replace(r\"^.*((?i)hack).*\",\"Role-Playing\");\n",
    "vgame_0.Genre = vgame_0.Genre.str.replace(r\"^.*((?i)break).*\",\"Misc\");\n",
    "vgame_0.Genre = vgame_0.Genre.str.replace(r\"^.*((?i)fit).*\",\"Sports\");\n",
    "vgame_0.Genre = vgame_0.Genre.str.replace(r\"^.*((?i)otome).*\",\"Simulation\");\n",
    "vgame_0.Genre = vgame_0.Genre.str.replace(r\"^.*((?i)slot).*\",\"Misc\");"
   ]
  },
  {
   "cell_type": "code",
   "execution_count": 65,
   "metadata": {},
   "outputs": [],
   "source": [
    "print = vgame_0.Genre.value_counts();"
   ]
  },
  {
   "cell_type": "code",
   "execution_count": 67,
   "metadata": {},
   "outputs": [],
   "source": [
    "# Save\n",
    "vgame_1 = vgame_0.copy();\n",
    "vgame_1.to_csv('vgames_1.csv');"
   ]
  },
  {
   "cell_type": "code",
   "execution_count": null,
   "metadata": {},
   "outputs": [],
   "source": []
  }
 ],
 "metadata": {
  "kernelspec": {
   "display_name": "Python 3.10.5 64-bit",
   "language": "python",
   "name": "python3"
  },
  "language_info": {
   "codemirror_mode": {
    "name": "ipython",
    "version": 3
   },
   "file_extension": ".py",
   "mimetype": "text/x-python",
   "name": "python",
   "nbconvert_exporter": "python",
   "pygments_lexer": "ipython3",
   "version": "3.10.5"
  },
  "orig_nbformat": 4,
  "vscode": {
   "interpreter": {
    "hash": "73658ba1d7581ddd2e384cc6d6bffb977215ded4519b7402ae632ab016b41591"
   }
  }
 },
 "nbformat": 4,
 "nbformat_minor": 2
}
